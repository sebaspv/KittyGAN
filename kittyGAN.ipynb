{
  "nbformat": 4,
  "nbformat_minor": 0,
  "metadata": {
    "colab": {
      "name": "kittyGAN.ipynb",
      "provenance": [],
      "authorship_tag": "ABX9TyMcBG3bTuZPtjp63xVb6jUs",
      "include_colab_link": true
    },
    "kernelspec": {
      "name": "python3",
      "display_name": "Python 3"
    },
    "accelerator": "GPU"
  },
  "cells": [
    {
      "cell_type": "markdown",
      "metadata": {
        "id": "view-in-github",
        "colab_type": "text"
      },
      "source": [
        "<a href=\"https://colab.research.google.com/github/sebaspv/KittyGAN/blob/main/kittyGAN.ipynb\" target=\"_parent\"><img src=\"https://colab.research.google.com/assets/colab-badge.svg\" alt=\"Open In Colab\"/></a>"
      ]
    },
    {
      "cell_type": "code",
      "metadata": {
        "colab": {
          "base_uri": "https://localhost:8080/"
        },
        "id": "JWETVdEp55mn",
        "outputId": "b1b62f4c-031e-43f1-f39a-a7808f2f9fd8"
      },
      "source": [
        "from google.colab import drive\r\n",
        "drive.mount('/content/drive', force_remount=True)"
      ],
      "execution_count": 1,
      "outputs": [
        {
          "output_type": "stream",
          "text": [
            "Mounted at /content/drive\n"
          ],
          "name": "stdout"
        }
      ]
    },
    {
      "cell_type": "code",
      "metadata": {
        "id": "YZYbEbMd58r-"
      },
      "source": [
        "import tensorflow as tf\r\n",
        "from tensorflow.keras.layers import Input, Reshape, Dropout, Dense \r\n",
        "from tensorflow.keras.layers import Flatten, BatchNormalization\r\n",
        "from tensorflow.keras.layers import Activation, ZeroPadding2D\r\n",
        "from tensorflow.keras.layers import LeakyReLU\r\n",
        "from tensorflow.keras.layers import UpSampling2D, Conv2D\r\n",
        "from tensorflow.keras.models import Sequential, Model, load_model\r\n",
        "from tensorflow.keras.optimizers import Adam\r\n",
        "import numpy as np\r\n",
        "from PIL import Image\r\n",
        "from tqdm import tqdm\r\n",
        "import os \r\n",
        "import time\r\n",
        "import matplotlib.pyplot as plt"
      ],
      "execution_count": 2,
      "outputs": []
    },
    {
      "cell_type": "code",
      "metadata": {
        "id": "s-EOgJGI6E_k"
      },
      "source": [
        "GEN_RES = 2\r\n",
        "GEN_SQUARE = 32*GEN_RES # 64*64 images\r\n",
        "COLOR_CHANNELS = 3\r\n",
        "\r\n",
        "PR_ROWS = 4\r\n",
        "PR_COLS = 7\r\n",
        "PR_MARGIN = 16\r\n",
        "\r\n",
        "SEED_SIZE = 100 # vector size\r\n",
        "\r\n",
        "DATA_PATH = '/content/drive/My Drive/catfaces'\r\n",
        "EPOCHS = 100\r\n",
        "BATCH_SIZE = 32\r\n",
        "BUFFER_SIZE = 60000\r\n"
      ],
      "execution_count": 3,
      "outputs": []
    },
    {
      "cell_type": "code",
      "metadata": {
        "colab": {
          "base_uri": "https://localhost:8080/"
        },
        "id": "ad1h0MBq6LHe",
        "outputId": "01579a99-c0ef-4b6b-9aac-2d029b6332b2"
      },
      "source": [
        "# preprocessing (or loading) image data\r\n",
        "training_binary_path = os.path.join(DATA_PATH,\r\n",
        "        f'training_data_{GEN_SQUARE}_{GEN_SQUARE}.npy')\r\n",
        "\r\n",
        "print(f\"Looking for file: {training_binary_path}\")\r\n",
        "\r\n",
        "if not os.path.isfile(training_binary_path):\r\n",
        "  start = time.time()\r\n",
        "  print(\"Loading training images...\")\r\n",
        "\r\n",
        "  training_data = []\r\n",
        "  monet_path = DATA_PATH\r\n",
        "  for filename in tqdm(os.listdir(monet_path)):\r\n",
        "      path = os.path.join(monet_path,filename)\r\n",
        "      image = Image.open(path).resize((GEN_SQUARE,GEN_SQUARE),Image.ANTIALIAS)\r\n",
        "      training_data.append(np.asarray(image))\r\n",
        "  training_data = np.reshape(training_data,(-1,GEN_SQUARE,GEN_SQUARE,COLOR_CHANNELS))\r\n",
        "  training_data = training_data.astype(np.float32)\r\n",
        "  training_data = training_data / 127.5 - 1.\r\n",
        "\r\n",
        "\r\n",
        "  print(\"Saving training image binary...\")\r\n",
        "  np.save(training_binary_path,training_data)\r\n",
        "  elapsed = time.time()-start\r\n",
        "else:\r\n",
        "  print(\"Loading previous training pickle...\")\r\n",
        "  training_data = np.load(training_binary_path)"
      ],
      "execution_count": 4,
      "outputs": [
        {
          "output_type": "stream",
          "text": [
            "Looking for file: /content/drive/My Drive/catfaces/training_data_64_64.npy\n",
            "Loading previous training pickle...\n"
          ],
          "name": "stdout"
        }
      ]
    },
    {
      "cell_type": "code",
      "metadata": {
        "id": "2VW2_Z7D6Oz4"
      },
      "source": [
        "full_dataset = tf.data.Dataset.from_tensor_slices(training_data) \\\r\n",
        "    .shuffle(BUFFER_SIZE).batch(BATCH_SIZE)"
      ],
      "execution_count": 5,
      "outputs": []
    },
    {
      "cell_type": "code",
      "metadata": {
        "id": "WDeRtRWf6RRQ"
      },
      "source": [
        "def generator_build(size_seed, channels):\r\n",
        "  model = Sequential()\r\n",
        "  model.add(Dense(4096, activation = 'relu', input_dim = size_seed))\r\n",
        "  model.add(Reshape((4, 4, 256)))\r\n",
        "  model.add(UpSampling2D())\r\n",
        "  model.add(Conv2D(256, kernel_size = (3, 3), padding = 'same'))\r\n",
        "  model.add(BatchNormalization(momentum = 0.8))\r\n",
        "  model.add(Activation('relu')) # activation after batch normalization\r\n",
        "  model.add(UpSampling2D())\r\n",
        "  model.add(Conv2D(256, kernel_size = (3, 3), padding = 'same'))\r\n",
        "  model.add(BatchNormalization(momentum = 0.8))\r\n",
        "  model.add(Activation('relu'))\r\n",
        "\r\n",
        "  # output block\r\n",
        "  model.add(UpSampling2D())\r\n",
        "  model.add(Conv2D(256,kernel_size=3,padding=\"same\"))\r\n",
        "  model.add(BatchNormalization(momentum=0.8))\r\n",
        "  model.add(Activation(\"relu\"))\r\n",
        "\r\n",
        "  model.add(UpSampling2D(size=(GEN_RES,GEN_RES)))\r\n",
        "  model.add(Conv2D(512,kernel_size=3,padding=\"same\"))\r\n",
        "  model.add(BatchNormalization(momentum=0.8))\r\n",
        "  model.add(Activation(\"relu\"))\r\n",
        "\r\n",
        "  # final layer\r\n",
        "  model.add(Conv2D(channels,kernel_size=3,padding=\"same\"))\r\n",
        "  model.add(Activation(\"tanh\"))\r\n",
        "\r\n",
        "  return model"
      ],
      "execution_count": 6,
      "outputs": []
    },
    {
      "cell_type": "code",
      "metadata": {
        "id": "h-YKfn5B6Txa"
      },
      "source": [
        "def build_discriminator(image_shape):\r\n",
        "  model = Sequential()\r\n",
        "  model.add(Conv2D(32, kernel_size = (3, 3), input_shape = image_shape, padding = 'same'))\r\n",
        "  model.add(LeakyReLU(alpha = 0.2)) # leaky relu works better for discriminators\r\n",
        "  model.add(Dropout(0.25))\r\n",
        "\r\n",
        "  model.add(Conv2D(64, kernel_size = (3, 3), strides = (2, 2), padding = 'same'))\r\n",
        "  model.add(ZeroPadding2D(padding = ((0,1),(0,1))))\r\n",
        "  model.add(BatchNormalization(momentum = 0.8))\r\n",
        "  model.add(LeakyReLU(alpha = 0.2))\r\n",
        "\r\n",
        "  model.add(Dropout(0.25))\r\n",
        "  model.add(Conv2D(128, kernel_size = (3, 3), strides = (2, 2), padding=\"same\"))\r\n",
        "  model.add(BatchNormalization(momentum=0.8))\r\n",
        "  model.add(LeakyReLU(alpha=0.2))\r\n",
        "\r\n",
        "  model.add(Dropout(0.25))\r\n",
        "  model.add(Conv2D(256, kernel_size=3, strides=2, padding=\"same\"))\r\n",
        "  model.add(BatchNormalization(momentum=0.8))\r\n",
        "  model.add(LeakyReLU(alpha=0.2))\r\n",
        "\r\n",
        "  model.add(Dropout(0.25))\r\n",
        "  model.add(Conv2D(512, kernel_size=3, strides=2, padding=\"same\"))\r\n",
        "  model.add(BatchNormalization(momentum=0.8))\r\n",
        "  model.add(LeakyReLU(alpha=0.2))\r\n",
        "\r\n",
        "  # final block\r\n",
        "  model.add(Dropout(0.25))\r\n",
        "  model.add(Flatten())\r\n",
        "  # final decision layer\r\n",
        "  model.add(Dense(1, activation='sigmoid'))\r\n",
        "\r\n",
        "  return model"
      ],
      "execution_count": 7,
      "outputs": []
    },
    {
      "cell_type": "code",
      "metadata": {
        "id": "-UmAhc2J6WIq"
      },
      "source": [
        "def save_images(cnt,noise):\r\n",
        "  image_array = np.full(( \r\n",
        "      PR_MARGIN + (PR_ROWS * (GEN_SQUARE+PR_MARGIN)), \r\n",
        "      PR_MARGIN + (PR_COLS * (GEN_SQUARE+PR_MARGIN)), 3), \r\n",
        "      255, dtype=np.uint8)\r\n",
        "  \r\n",
        "  generated_images = generator.predict(noise)\r\n",
        "\r\n",
        "  generated_images = 0.5 * generated_images + 0.5\r\n",
        "\r\n",
        "  image_count = 0\r\n",
        "  for row in range(PR_ROWS):\r\n",
        "      for col in range(PR_COLS):\r\n",
        "        r = row * (GEN_SQUARE+16) + PR_MARGIN\r\n",
        "        c = col * (GEN_SQUARE+16) + PR_MARGIN\r\n",
        "        image_array[r:r+GEN_SQUARE,c:c+GEN_SQUARE] \\\r\n",
        "            = generated_images[image_count] * 255\r\n",
        "        image_count += 1\r\n",
        "\r\n",
        "          \r\n",
        "  output_path = os.path.join(DATA_PATH,'output')\r\n",
        "  if not os.path.exists(output_path):\r\n",
        "    os.makedirs(output_path)\r\n",
        "  \r\n",
        "  filename = os.path.join(output_path,f\"train-{cnt}.png\")\r\n",
        "  im = Image.fromarray(image_array)\r\n",
        "  im.save(filename)"
      ],
      "execution_count": 8,
      "outputs": []
    },
    {
      "cell_type": "code",
      "metadata": {
        "colab": {
          "base_uri": "https://localhost:8080/",
          "height": 286
        },
        "id": "buGgOkhU6bvd",
        "outputId": "fcf3ce34-d0ed-48c9-ffa0-7bac52d34494"
      },
      "source": [
        "generator = generator_build(SEED_SIZE, COLOR_CHANNELS)\r\n",
        "\r\n",
        "noise = tf.random.normal([1, SEED_SIZE])\r\n",
        "generated_image = generator(noise, training=False)\r\n",
        "\r\n",
        "plt.imshow(generated_image[0, :, :, 0])"
      ],
      "execution_count": 9,
      "outputs": [
        {
          "output_type": "execute_result",
          "data": {
            "text/plain": [
              "<matplotlib.image.AxesImage at 0x7f8bf6219470>"
            ]
          },
          "metadata": {
            "tags": []
          },
          "execution_count": 9
        },
        {
          "output_type": "display_data",
          "data": {
            "image/png": "[encoded data removed]",
            "text/plain": [
              "<Figure size 432x288 with 1 Axes>"
            ]
          },
          "metadata": {
            "tags": [],
            "needs_background": "light"
          }
        }
      ]
    },
    {
      "cell_type": "code",
      "metadata": {
        "colab": {
          "base_uri": "https://localhost:8080/"
        },
        "id": "VuzyvKxG6d92",
        "outputId": "a61055d1-6e5a-4a0f-f23a-7df7ac7d4287"
      },
      "source": [
        "image_shape = (GEN_SQUARE,GEN_SQUARE,COLOR_CHANNELS)\r\n",
        "\r\n",
        "discriminator = build_discriminator(image_shape)\r\n",
        "decision = discriminator(generated_image)\r\n",
        "print(decision) # decision over the generator's not trained image"
      ],
      "execution_count": 10,
      "outputs": [
        {
          "output_type": "stream",
          "text": [
            "tf.Tensor([[0.49941406]], shape=(1, 1), dtype=float32)\n"
          ],
          "name": "stdout"
        }
      ]
    },
    {
      "cell_type": "code",
      "metadata": {
        "id": "3M9UZ3qK6g9c"
      },
      "source": [
        "cross_entropy = tf.keras.losses.BinaryCrossentropy()\r\n",
        "\r\n",
        "def discriminator_loss(real_output, fake_output):\r\n",
        "    real_loss = cross_entropy(tf.ones_like(real_output), real_output)\r\n",
        "    fake_loss = cross_entropy(tf.zeros_like(fake_output), fake_output)\r\n",
        "    total_loss = real_loss + fake_loss\r\n",
        "    return total_loss\r\n",
        "\r\n",
        "def generator_loss(fake_output):\r\n",
        "    return cross_entropy(tf.ones_like(fake_output), fake_output)"
      ],
      "execution_count": 11,
      "outputs": []
    },
    {
      "cell_type": "code",
      "metadata": {
        "id": "BJoFevCZ6i4H"
      },
      "source": [
        "generator_optimizer = tf.keras.optimizers.Adam(0.0002,0.5)\r\n",
        "discriminator_optimizer = tf.keras.optimizers.Adam(0.0002,0.5)"
      ],
      "execution_count": 12,
      "outputs": []
    },
    {
      "cell_type": "code",
      "metadata": {
        "id": "UTZBwylo6mfY"
      },
      "source": [
        "@tf.function\r\n",
        "def train_step(images):\r\n",
        "  seed = tf.random.normal([BATCH_SIZE, SEED_SIZE])\r\n",
        "\r\n",
        "  with tf.GradientTape() as gen_tape, tf.GradientTape() as disc_tape:\r\n",
        "    generated_images = generator(seed, training=True)\r\n",
        "\r\n",
        "    real_output = discriminator(images, training=True)\r\n",
        "    fake_output = discriminator(generated_images, training=True)\r\n",
        "\r\n",
        "    gen_loss = generator_loss(fake_output)\r\n",
        "    disc_loss = discriminator_loss(real_output, fake_output)\r\n",
        "    \r\n",
        "\r\n",
        "    gradients_of_generator = gen_tape.gradient(\\\r\n",
        "        gen_loss, generator.trainable_variables)\r\n",
        "    gradients_of_discriminator = disc_tape.gradient(\\\r\n",
        "        disc_loss, discriminator.trainable_variables)\r\n",
        "\r\n",
        "    generator_optimizer.apply_gradients(zip(\r\n",
        "        gradients_of_generator, generator.trainable_variables))\r\n",
        "    discriminator_optimizer.apply_gradients(zip(\r\n",
        "        gradients_of_discriminator, \r\n",
        "        discriminator.trainable_variables))\r\n",
        "  return gen_loss,disc_loss"
      ],
      "execution_count": 13,
      "outputs": []
    },
    {
      "cell_type": "code",
      "metadata": {
        "id": "ACC5GaAf6oup"
      },
      "source": [
        "def hms_string(sec_elapsed):\r\n",
        "    h = int(sec_elapsed / (60 * 60))\r\n",
        "    m = int((sec_elapsed % (60 * 60)) / 60)\r\n",
        "    s = sec_elapsed % 60\r\n",
        "    return \"{}:{:>02}:{:>05.2f}\".format(h, m, s)"
      ],
      "execution_count": 14,
      "outputs": []
    },
    {
      "cell_type": "code",
      "metadata": {
        "id": "ilPVOVj_6qtB"
      },
      "source": [
        "def train(dataset, epochs):\r\n",
        "  fixed_seed = np.random.normal(0, 1, (PR_ROWS * PR_COLS, \r\n",
        "                                       SEED_SIZE))\r\n",
        "  start = time.time()\r\n",
        "\r\n",
        "  for epoch in range(epochs):\r\n",
        "    epoch_start = time.time()\r\n",
        "\r\n",
        "    gen_loss_list = []\r\n",
        "    disc_loss_list = []\r\n",
        "\r\n",
        "    for image_batch in dataset:\r\n",
        "      t = train_step(image_batch)\r\n",
        "      gen_loss_list.append(t[0])\r\n",
        "      disc_loss_list.append(t[1])\r\n",
        "\r\n",
        "    g_loss = sum(gen_loss_list) / len(gen_loss_list)\r\n",
        "    d_loss = sum(disc_loss_list) / len(disc_loss_list)\r\n",
        "\r\n",
        "    epoch_elapsed = time.time()-epoch_start\r\n",
        "    print (f'Epoch {epoch+1}, gen loss={g_loss},disc loss={d_loss},'\\\r\n",
        "           f' {hms_string(epoch_elapsed)}')\r\n",
        "    save_images(epoch,fixed_seed)\r\n",
        "\r\n",
        "  elapsed = time.time()-start\r\n",
        "  time_passed = hms_string(elapsed)\r\n",
        "  print (f'Training time: {time_passed}')\r\n",
        "  # training function"
      ],
      "execution_count": 15,
      "outputs": []
    },
    {
      "cell_type": "code",
      "metadata": {
        "id": "oOeh43Fk6vpg",
        "colab": {
          "base_uri": "https://localhost:8080/"
        },
        "outputId": "83ac61b0-b9e6-4515-8285-73ccbc2e7d69"
      },
      "source": [
        "train(full_dataset, EPOCHS)\r\n",
        "# train the GAN over 50 epochs"
      ],
      "execution_count": 16,
      "outputs": [
        {
          "output_type": "stream",
          "text": [
            "Epoch 1, gen loss=1.3319612741470337,disc loss=1.2945756912231445, 0:00:10.92\n",
            "Epoch 2, gen loss=2.778514862060547,disc loss=0.48061612248420715, 0:00:06.29\n",
            "Epoch 3, gen loss=3.0426247119903564,disc loss=0.6796798706054688, 0:00:06.31\n",
            "Epoch 4, gen loss=2.6197054386138916,disc loss=0.9661956429481506, 0:00:06.29\n",
            "Epoch 5, gen loss=3.162335157394409,disc loss=0.44649815559387207, 0:00:06.33\n",
            "Epoch 6, gen loss=2.664435386657715,disc loss=0.8345701098442078, 0:00:06.34\n",
            "Epoch 7, gen loss=2.323420286178589,disc loss=0.6772925853729248, 0:00:06.34\n",
            "Epoch 8, gen loss=2.1267483234405518,disc loss=0.8619704246520996, 0:00:06.36\n",
            "Epoch 9, gen loss=1.5958251953125,disc loss=1.212607979774475, 0:00:06.39\n",
            "Epoch 10, gen loss=1.608863353729248,disc loss=1.0761243104934692, 0:00:06.39\n",
            "Epoch 11, gen loss=1.3134756088256836,disc loss=1.2068419456481934, 0:00:06.35\n",
            "Epoch 12, gen loss=1.5704007148742676,disc loss=1.0266985893249512, 0:00:06.35\n",
            "Epoch 13, gen loss=1.2550443410873413,disc loss=1.2680511474609375, 0:00:06.38\n",
            "Epoch 14, gen loss=1.9438657760620117,disc loss=0.688664972782135, 0:00:06.37\n",
            "Epoch 15, gen loss=2.176175832748413,disc loss=0.9666867256164551, 0:00:06.39\n",
            "Epoch 16, gen loss=2.198054075241089,disc loss=0.801324188709259, 0:00:06.40\n",
            "Epoch 17, gen loss=2.444277763366699,disc loss=0.9561461210250854, 0:00:06.42\n",
            "Epoch 18, gen loss=2.0403904914855957,disc loss=0.939042329788208, 0:00:06.42\n",
            "Epoch 19, gen loss=1.45045006275177,disc loss=1.1095294952392578, 0:00:06.43\n",
            "Epoch 20, gen loss=2.057569980621338,disc loss=0.7344475984573364, 0:00:06.42\n",
            "Epoch 21, gen loss=2.0663816928863525,disc loss=0.8235440850257874, 0:00:06.43\n",
            "Epoch 22, gen loss=1.8928918838500977,disc loss=0.9913008809089661, 0:00:06.44\n",
            "Epoch 23, gen loss=2.5100855827331543,disc loss=0.668740451335907, 0:00:06.44\n",
            "Epoch 24, gen loss=2.3678979873657227,disc loss=0.8144777417182922, 0:00:06.46\n",
            "Epoch 25, gen loss=1.9833861589431763,disc loss=0.8360845446586609, 0:00:06.46\n",
            "Epoch 26, gen loss=1.9033440351486206,disc loss=0.8876379132270813, 0:00:06.44\n",
            "Epoch 27, gen loss=1.7821195125579834,disc loss=1.0594794750213623, 0:00:06.46\n",
            "Epoch 28, gen loss=1.7357257604599,disc loss=0.9769222736358643, 0:00:06.47\n",
            "Epoch 29, gen loss=1.9841901063919067,disc loss=0.9304044842720032, 0:00:06.47\n",
            "Epoch 30, gen loss=1.9692866802215576,disc loss=0.9027938842773438, 0:00:06.47\n",
            "Epoch 31, gen loss=1.682023286819458,disc loss=1.0797725915908813, 0:00:06.49\n",
            "Epoch 32, gen loss=2.353334665298462,disc loss=0.693037211894989, 0:00:06.49\n",
            "Epoch 33, gen loss=2.043802261352539,disc loss=0.9157142639160156, 0:00:06.48\n",
            "Epoch 34, gen loss=1.812425971031189,disc loss=1.0907739400863647, 0:00:06.49\n",
            "Epoch 35, gen loss=1.5831712484359741,disc loss=1.0835095643997192, 0:00:06.51\n",
            "Epoch 36, gen loss=1.6438963413238525,disc loss=1.1756349802017212, 0:00:06.53\n",
            "Epoch 37, gen loss=1.5574307441711426,disc loss=1.0464327335357666, 0:00:06.52\n",
            "Epoch 38, gen loss=1.505595088005066,disc loss=1.0725363492965698, 0:00:06.53\n",
            "Epoch 39, gen loss=1.4064017534255981,disc loss=1.1483701467514038, 0:00:06.52\n",
            "Epoch 40, gen loss=1.5695276260375977,disc loss=1.171068549156189, 0:00:06.51\n",
            "Epoch 41, gen loss=1.3859490156173706,disc loss=1.1026859283447266, 0:00:06.51\n",
            "Epoch 42, gen loss=1.844190239906311,disc loss=1.0264098644256592, 0:00:06.50\n",
            "Epoch 43, gen loss=1.6599068641662598,disc loss=0.9346055388450623, 0:00:06.49\n",
            "Epoch 44, gen loss=1.7202212810516357,disc loss=0.9249635934829712, 0:00:06.50\n",
            "Epoch 45, gen loss=1.7264636754989624,disc loss=1.0959587097167969, 0:00:06.49\n",
            "Epoch 46, gen loss=1.6023354530334473,disc loss=1.1096397638320923, 0:00:06.49\n",
            "Epoch 47, gen loss=1.471846580505371,disc loss=1.1804929971694946, 0:00:06.51\n",
            "Epoch 48, gen loss=1.6579196453094482,disc loss=1.0106581449508667, 0:00:06.49\n",
            "Epoch 49, gen loss=1.727095365524292,disc loss=1.0768787860870361, 0:00:06.49\n",
            "Epoch 50, gen loss=1.8538635969161987,disc loss=0.9670102000236511, 0:00:06.49\n",
            "Epoch 51, gen loss=1.814653754234314,disc loss=0.9982914328575134, 0:00:06.50\n",
            "Epoch 52, gen loss=2.18121075630188,disc loss=0.8765425682067871, 0:00:06.50\n",
            "Epoch 53, gen loss=1.8293204307556152,disc loss=0.9238308072090149, 0:00:06.48\n",
            "Epoch 54, gen loss=1.6809028387069702,disc loss=0.9968296885490417, 0:00:06.49\n",
            "Epoch 55, gen loss=1.6716718673706055,disc loss=1.0832247734069824, 0:00:06.49\n",
            "Epoch 56, gen loss=1.8755877017974854,disc loss=1.1746467351913452, 0:00:06.51\n",
            "Epoch 57, gen loss=1.6478694677352905,disc loss=0.9423713684082031, 0:00:06.49\n",
            "Epoch 58, gen loss=1.9827816486358643,disc loss=1.0111132860183716, 0:00:06.62\n",
            "Epoch 59, gen loss=1.6581236124038696,disc loss=1.0449055433273315, 0:00:06.56\n",
            "Epoch 60, gen loss=1.6584277153015137,disc loss=0.9780262112617493, 0:00:06.53\n",
            "Epoch 61, gen loss=1.8732918500900269,disc loss=1.0697729587554932, 0:00:06.54\n",
            "Epoch 62, gen loss=1.7259565591812134,disc loss=0.9512307047843933, 0:00:06.53\n",
            "Epoch 63, gen loss=1.8312979936599731,disc loss=0.829308271408081, 0:00:06.54\n",
            "Epoch 64, gen loss=1.6678435802459717,disc loss=0.9858200550079346, 0:00:06.54\n",
            "Epoch 65, gen loss=1.7808626890182495,disc loss=0.9009495973587036, 0:00:06.53\n",
            "Epoch 66, gen loss=1.8013968467712402,disc loss=1.023114800453186, 0:00:06.55\n",
            "Epoch 67, gen loss=1.60129976272583,disc loss=1.0228103399276733, 0:00:06.53\n",
            "Epoch 68, gen loss=1.5943289995193481,disc loss=1.1104204654693604, 0:00:06.52\n",
            "Epoch 69, gen loss=1.7105211019515991,disc loss=0.9205310940742493, 0:00:06.51\n",
            "Epoch 70, gen loss=1.6616319417953491,disc loss=1.1135681867599487, 0:00:06.52\n",
            "Epoch 71, gen loss=1.8389495611190796,disc loss=0.9138839840888977, 0:00:06.51\n",
            "Epoch 72, gen loss=1.5610342025756836,disc loss=1.1451842784881592, 0:00:06.50\n",
            "Epoch 73, gen loss=1.6732220649719238,disc loss=1.0385074615478516, 0:00:06.48\n",
            "Epoch 74, gen loss=1.704118013381958,disc loss=1.0427237749099731, 0:00:06.49\n",
            "Epoch 75, gen loss=1.5789889097213745,disc loss=1.077326774597168, 0:00:06.50\n",
            "Epoch 76, gen loss=1.9130066633224487,disc loss=0.9394413828849792, 0:00:06.49\n",
            "Epoch 77, gen loss=1.8565216064453125,disc loss=0.8344247341156006, 0:00:06.49\n",
            "Epoch 78, gen loss=1.7768157720565796,disc loss=0.9579017162322998, 0:00:06.50\n",
            "Epoch 79, gen loss=1.9085396528244019,disc loss=0.9460271596908569, 0:00:06.50\n",
            "Epoch 80, gen loss=1.850719690322876,disc loss=0.8235645294189453, 0:00:06.51\n",
            "Epoch 81, gen loss=2.0146617889404297,disc loss=0.7990550994873047, 0:00:06.50\n",
            "Epoch 82, gen loss=1.9387110471725464,disc loss=0.8297047019004822, 0:00:06.49\n",
            "Epoch 83, gen loss=1.7912712097167969,disc loss=0.978965163230896, 0:00:06.51\n",
            "Epoch 84, gen loss=1.8276243209838867,disc loss=0.7736504673957825, 0:00:06.51\n",
            "Epoch 85, gen loss=1.9604345560073853,disc loss=0.9995118379592896, 0:00:06.52\n",
            "Epoch 86, gen loss=2.017341136932373,disc loss=0.9227752685546875, 0:00:06.51\n",
            "Epoch 87, gen loss=2.1530065536499023,disc loss=0.9016270637512207, 0:00:06.52\n",
            "Epoch 88, gen loss=1.7867525815963745,disc loss=1.0319204330444336, 0:00:06.51\n",
            "Epoch 89, gen loss=1.7998486757278442,disc loss=0.8883528709411621, 0:00:06.53\n",
            "Epoch 90, gen loss=1.9603060483932495,disc loss=0.9611897468566895, 0:00:06.52\n",
            "Epoch 91, gen loss=1.993210792541504,disc loss=0.9689658284187317, 0:00:06.52\n",
            "Epoch 92, gen loss=2.013176918029785,disc loss=0.7963590621948242, 0:00:06.54\n",
            "Epoch 93, gen loss=1.9637651443481445,disc loss=0.8717975616455078, 0:00:06.54\n",
            "Epoch 94, gen loss=2.2049400806427,disc loss=0.8889962434768677, 0:00:06.53\n",
            "Epoch 95, gen loss=1.9495688676834106,disc loss=0.9435867667198181, 0:00:06.54\n",
            "Epoch 96, gen loss=1.7850412130355835,disc loss=1.0157030820846558, 0:00:06.52\n",
            "Epoch 97, gen loss=1.9069695472717285,disc loss=0.9002725481987, 0:00:06.52\n",
            "Epoch 98, gen loss=1.9633421897888184,disc loss=0.7521354556083679, 0:00:06.54\n",
            "Epoch 99, gen loss=2.068647623062134,disc loss=0.8920667767524719, 0:00:06.52\n",
            "Epoch 100, gen loss=2.0611236095428467,disc loss=0.8191602826118469, 0:00:06.52\n",
            "Training time: 0:11:18.98\n"
          ],
          "name": "stdout"
        }
      ]
    },
    {
      "cell_type": "code",
      "metadata": {
        "id": "T249-J5a6zHE",
        "colab": {
          "base_uri": "https://localhost:8080/",
          "height": 286
        },
        "outputId": "83a2f4e5-9d14-49f4-91b3-868275453629"
      },
      "source": [
        "noise = np.random.rand(1, 100)\r\n",
        "generated_images = generator.predict(noise)\r\n",
        "\r\n",
        "generated_images = 0.5 * generated_images + 0.5\r\n",
        "final_image = np.reshape(generated_images, (64, 64, 3))\r\n",
        "gen_image = final_image*255\r\n",
        "plt.imshow(gen_image.astype('uint8')) # kinda scary, but it does look like a cat"
      ],
      "execution_count": 30,
      "outputs": [
        {
          "output_type": "execute_result",
          "data": {
            "text/plain": [
              "<matplotlib.image.AxesImage at 0x7f89f16aa550>"
            ]
          },
          "metadata": {
            "tags": []
          },
          "execution_count": 30
        },
        {
          "output_type": "display_data",
          "data": {
            "image/png": "[encoded data removed]",
            "text/plain": [
              "<Figure size 432x288 with 1 Axes>"
            ]
          },
          "metadata": {
            "tags": [],
            "needs_background": "light"
          }
        }
      ]
    },
    {
      "cell_type": "code",
      "metadata": {
        "id": "tGSA7oVhpYRQ"
      },
      "source": [
        ""
      ],
      "execution_count": 17,
      "outputs": []
    }
  ]
}